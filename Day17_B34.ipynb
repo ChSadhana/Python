{
 "cells": [
  {
   "cell_type": "code",
   "execution_count": null,
   "metadata": {},
   "outputs": [],
   "source": [
    "Introduction to constructor\n",
    "\n",
    "It is called as special method or magical method"
   ]
  },
  {
   "cell_type": "code",
   "execution_count": null,
   "metadata": {},
   "outputs": [],
   "source": [
    "Create the dog class"
   ]
  },
  {
   "cell_type": "code",
   "execution_count": 55,
   "metadata": {},
   "outputs": [],
   "source": [
    "class Dog:\n",
    "    \"\"\"Creating the Dog Class with simple methods\"\"\"\n",
    "    \n",
    "    def __init__ (self, name, age):\n",
    "        \n",
    "        \"\"\"collecting the details from user\"\"\"\n",
    "        \n",
    "        self.name= name\n",
    "        self.age= age\n",
    "        print(\"The Dog details entered\")\n",
    "    \n",
    "    def jump(self):\n",
    "        print(f\"{self.name} is jumping over\")\n",
    "        \n",
    "    def sleep(self):\n",
    "        print(f\"{self.name} is sleeping\")\n",
    "              \n",
    "    def rollover(self):\n",
    "        print(f\"{self.name} is rolling on command\")\n",
    "              \n",
    "    def age1(self):\n",
    "        print(f\"{self.name}'s age is {self.age}\")"
   ]
  },
  {
   "cell_type": "code",
   "execution_count": 56,
   "metadata": {},
   "outputs": [
    {
     "name": "stdout",
     "output_type": "stream",
     "text": [
      "The Dog details entered\n"
     ]
    }
   ],
   "source": [
    "test = Dog('ron',5)"
   ]
  },
  {
   "cell_type": "code",
   "execution_count": 36,
   "metadata": {},
   "outputs": [
    {
     "name": "stdout",
     "output_type": "stream",
     "text": [
      "ron is jumping over\n"
     ]
    }
   ],
   "source": [
    "test.jump()"
   ]
  },
  {
   "cell_type": "code",
   "execution_count": 57,
   "metadata": {},
   "outputs": [
    {
     "name": "stdout",
     "output_type": "stream",
     "text": [
      "ron's age is 5\n"
     ]
    }
   ],
   "source": [
    "test.age1()"
   ]
  },
  {
   "cell_type": "code",
   "execution_count": null,
   "metadata": {},
   "outputs": [],
   "source": []
  },
  {
   "cell_type": "code",
   "execution_count": null,
   "metadata": {},
   "outputs": [],
   "source": []
  },
  {
   "cell_type": "code",
   "execution_count": null,
   "metadata": {},
   "outputs": [],
   "source": []
  },
  {
   "cell_type": "code",
   "execution_count": null,
   "metadata": {},
   "outputs": [],
   "source": []
  }
 ],
 "metadata": {
  "kernelspec": {
   "display_name": "Python 3",
   "language": "python",
   "name": "python3"
  },
  "language_info": {
   "codemirror_mode": {
    "name": "ipython",
    "version": 3
   },
   "file_extension": ".py",
   "mimetype": "text/x-python",
   "name": "python",
   "nbconvert_exporter": "python",
   "pygments_lexer": "ipython3",
   "version": "3.8.3"
  }
 },
 "nbformat": 4,
 "nbformat_minor": 4
}
