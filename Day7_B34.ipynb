{
 "cells": [
  {
   "cell_type": "code",
   "execution_count": null,
   "metadata": {},
   "outputs": [],
   "source": [
    "Introduction to for loops:"
   ]
  },
  {
   "cell_type": "code",
   "execution_count": 1,
   "metadata": {},
   "outputs": [],
   "source": [
    "students=['saniya','kavya','kumar','vishnu','parnika','keerthi']"
   ]
  },
  {
   "cell_type": "code",
   "execution_count": 2,
   "metadata": {},
   "outputs": [
    {
     "name": "stdout",
     "output_type": "stream",
     "text": [
      "['saniya', 'kavya', 'kumar', 'vishnu', 'parnika', 'keerthi']\n"
     ]
    }
   ],
   "source": [
    "print(students)"
   ]
  },
  {
   "cell_type": "code",
   "execution_count": 3,
   "metadata": {},
   "outputs": [
    {
     "data": {
      "text/plain": [
       "list"
      ]
     },
     "execution_count": 3,
     "metadata": {},
     "output_type": "execute_result"
    }
   ],
   "source": [
    "type(students)"
   ]
  },
  {
   "cell_type": "code",
   "execution_count": 7,
   "metadata": {},
   "outputs": [
    {
     "name": "stdout",
     "output_type": "stream",
     "text": [
      "keep up the good work,Vishnu\n"
     ]
    }
   ],
   "source": [
    "print(f\"keep up the good work,{students[3].title()}\")"
   ]
  },
  {
   "cell_type": "code",
   "execution_count": null,
   "metadata": {},
   "outputs": [],
   "source": [
    "automating the process with single syntax:"
   ]
  },
  {
   "cell_type": "code",
   "execution_count": null,
   "metadata": {},
   "outputs": [],
   "source": [
    "for tempvar in mainvar:\n",
    " print(tempvar)"
   ]
  },
  {
   "cell_type": "code",
   "execution_count": 9,
   "metadata": {},
   "outputs": [
    {
     "name": "stdout",
     "output_type": "stream",
     "text": [
      "saniya\n",
      "kavya\n",
      "kumar\n",
      "vishnu\n",
      "parnika\n",
      "keerthi\n"
     ]
    }
   ],
   "source": [
    "for x in students:\n",
    " print(x)"
   ]
  },
  {
   "cell_type": "code",
   "execution_count": 10,
   "metadata": {},
   "outputs": [
    {
     "name": "stdout",
     "output_type": "stream",
     "text": [
      "Saniya\n",
      "Kavya\n",
      "Kumar\n",
      "Vishnu\n",
      "Parnika\n",
      "Keerthi\n"
     ]
    }
   ],
   "source": [
    "for x in students:\n",
    " print(x.title())"
   ]
  },
  {
   "cell_type": "code",
   "execution_count": 12,
   "metadata": {},
   "outputs": [
    {
     "name": "stdout",
     "output_type": "stream",
     "text": [
      "keep up the good work, Saniya\n",
      "keep up the good work, Kavya\n",
      "keep up the good work, Kumar\n",
      "keep up the good work, Vishnu\n",
      "keep up the good work, Parnika\n",
      "keep up the good work, Keerthi\n"
     ]
    }
   ],
   "source": [
    "for x in students:\n",
    "    print(f\"keep up the good work, {x.title()}\")"
   ]
  },
  {
   "cell_type": "code",
   "execution_count": 13,
   "metadata": {},
   "outputs": [
    {
     "name": "stdout",
     "output_type": "stream",
     "text": [
      "keep up the good work, Saniya\n",
      "Im looking forward to receive your github urls,Saniya\n",
      "keep up the good work, Kavya\n",
      "Im looking forward to receive your github urls,Kavya\n",
      "keep up the good work, Kumar\n",
      "Im looking forward to receive your github urls,Kumar\n",
      "keep up the good work, Vishnu\n",
      "Im looking forward to receive your github urls,Vishnu\n",
      "keep up the good work, Parnika\n",
      "Im looking forward to receive your github urls,Parnika\n",
      "keep up the good work, Keerthi\n",
      "Im looking forward to receive your github urls,Keerthi\n"
     ]
    }
   ],
   "source": [
    "for x in students:\n",
    "    print(f\"keep up the good work, {x.title()}\")\n",
    "    print(f\"Im looking forward to receive your github urls,{x.title()}\")"
   ]
  },
  {
   "cell_type": "code",
   "execution_count": 15,
   "metadata": {},
   "outputs": [
    {
     "name": "stdout",
     "output_type": "stream",
     "text": [
      "keep up the good work, Saniya\n",
      "Im looking forward to receive your github urls, Saniya.\n",
      "\n",
      "keep up the good work, Kavya\n",
      "Im looking forward to receive your github urls, Kavya.\n",
      "\n",
      "keep up the good work, Kumar\n",
      "Im looking forward to receive your github urls, Kumar.\n",
      "\n",
      "keep up the good work, Vishnu\n",
      "Im looking forward to receive your github urls, Vishnu.\n",
      "\n",
      "keep up the good work, Parnika\n",
      "Im looking forward to receive your github urls, Parnika.\n",
      "\n",
      "keep up the good work, Keerthi\n",
      "Im looking forward to receive your github urls, Keerthi.\n",
      "\n"
     ]
    }
   ],
   "source": [
    "for x in students:\n",
    "    print(f\"keep up the good work, {x.title()}\")\n",
    "    print(f\"Im looking forward to receive your github urls, {x.title()}.\\n\")"
   ]
  },
  {
   "cell_type": "code",
   "execution_count": 16,
   "metadata": {},
   "outputs": [
    {
     "name": "stdout",
     "output_type": "stream",
     "text": [
      "keep up the good work, Saniya\n",
      "Im looking forward to receive your github urls, Saniya.\n",
      "\n",
      "keep up the good work, Kavya\n",
      "Im looking forward to receive your github urls, Kavya.\n",
      "\n",
      "keep up the good work, Kumar\n",
      "Im looking forward to receive your github urls, Kumar.\n",
      "\n",
      "keep up the good work, Vishnu\n",
      "Im looking forward to receive your github urls, Vishnu.\n",
      "\n",
      "keep up the good work, Parnika\n",
      "Im looking forward to receive your github urls, Parnika.\n",
      "\n",
      "keep up the good work, Keerthi\n",
      "Im looking forward to receive your github urls, Keerthi.\n",
      "\n",
      "Thank you all for joining the sessions\n"
     ]
    }
   ],
   "source": [
    "for x in students:\n",
    "    print(f\"keep up the good work, {x.title()}\")\n",
    "    print(f\"Im looking forward to receive your github urls, {x.title()}.\\n\")\n",
    "   \n",
    "print(\"Thank you all for joining the sessions\")"
   ]
  },
  {
   "cell_type": "code",
   "execution_count": null,
   "metadata": {},
   "outputs": [],
   "source": []
  },
  {
   "cell_type": "code",
   "execution_count": null,
   "metadata": {},
   "outputs": [],
   "source": []
  }
 ],
 "metadata": {
  "kernelspec": {
   "display_name": "Python 3",
   "language": "python",
   "name": "python3"
  },
  "language_info": {
   "codemirror_mode": {
    "name": "ipython",
    "version": 3
   },
   "file_extension": ".py",
   "mimetype": "text/x-python",
   "name": "python",
   "nbconvert_exporter": "python",
   "pygments_lexer": "ipython3",
   "version": "3.8.3"
  }
 },
 "nbformat": 4,
 "nbformat_minor": 4
}
